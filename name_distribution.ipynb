{
 "cells": [
  {
   "cell_type": "code",
   "execution_count": 1161,
   "metadata": {
    "collapsed": true
   },
   "outputs": [],
   "source": [
    "import re\n",
    "import hashlib\n",
    "import pandas as pd\n",
    "import os\n",
    "import random\n",
    "import matplotlib.pyplot as plt\n",
    "import math as math"
   ]
  },
  {
   "cell_type": "code",
   "execution_count": 1162,
   "metadata": {
    "collapsed": false
   },
   "outputs": [
    {
     "name": "stdout",
     "output_type": "stream",
     "text": [
      "C:\\Users\\MDPha\\Documents\\RPL\\SortingHat C:\\Users\\MDPha\\Documents\\RPL\\SortingHat\\assets/training/CSV_Database_of_First_Names.csv\n"
     ]
    }
   ],
   "source": [
    "cwd = os.getcwd()\n",
    "fileName = 'assets/training/CSV_Database_of_First_Names.csv'\n",
    "filePath = os.path.join(cwd, fileName)\n",
    "print(cwd, filePath)\n",
    "df = pd.read_csv(filePath,header=0)"
   ]
  },
  {
   "cell_type": "code",
   "execution_count": 1163,
   "metadata": {
    "collapsed": false
   },
   "outputs": [],
   "source": [
    "def housing(df):\n",
    "    numbers = []\n",
    "    for i in range(0,len(df)):\n",
    "        m=(re.sub(\"(.?)(\\w+?\\s+?)(\\w+)$\", r\"\\1\\3\", df[df.columns[0]][i])).lower()\n",
    "        hasher = hashlib.sha256()\n",
    "        hasher.update((m).encode('utf-8'))\n",
    "        random.seed(hasher.hexdigest(),version=2)\n",
    "        for j in range(0,4):\n",
    "            hasher.update(repr(random.random()).encode('utf-8'))\n",
    "        numbers.append(int(hasher.hexdigest(), 16) % 4)#random.random())\n",
    "    plt.hist(numbers)\n",
    "    plt.grid()\n",
    "    plt.show()\n",
    "    numbers\n",
    "    numbers.sort()\n",
    "    numbers"
   ]
  },
  {
   "cell_type": "code",
   "execution_count": 1164,
   "metadata": {
    "collapsed": false
   },
   "outputs": [
    {
     "data": {
      "image/png": "[encoded data removed]",
      "text/plain": [
       "<matplotlib.figure.Figure at 0x1ac4b1d52e8>"
      ]
     },
     "metadata": {},
     "output_type": "display_data"
    }
   ],
   "source": [
    "housing(df)"
   ]
  },
  {
   "cell_type": "markdown",
   "metadata": {},
   "source": [
    "## Testing same method with names of people in RPL"
   ]
  },
  {
   "cell_type": "code",
   "execution_count": 1165,
   "metadata": {
    "collapsed": false,
    "scrolled": true
   },
   "outputs": [
    {
     "name": "stdout",
     "output_type": "stream",
     "text": [
      "C:\\Users\\MDPha\\Documents\\RPL\\SortingHat C:\\Users\\MDPha\\Documents\\RPL\\SortingHat/assets/training/sorting2016_2017.csv\n"
     ]
    }
   ],
   "source": [
    "cwd = os.getcwd()\n",
    "fileName = cwd + '/assets/training/sorting2016_2017.csv'\n",
    "filePath = os.path.join(cwd, fileName)\n",
    "print(cwd, filePath)\n",
    "df = pd.read_csv(filePath,header=0)"
   ]
  },
  {
   "cell_type": "code",
   "execution_count": 1166,
   "metadata": {
    "collapsed": false
   },
   "outputs": [
    {
     "data": {
      "text/plain": [
       "51"
      ]
     },
     "execution_count": 1166,
     "metadata": {},
     "output_type": "execute_result"
    }
   ],
   "source": [
    "names = df[df.columns[0]]\n",
    "len(names)"
   ]
  },
  {
   "cell_type": "code",
   "execution_count": 1167,
   "metadata": {
    "collapsed": false
   },
   "outputs": [
    {
     "data": {
      "image/png": "[encoded data removed]",
      "text/plain": [
       "<matplotlib.figure.Figure at 0x1ac4b2396d8>"
      ]
     },
     "metadata": {},
     "output_type": "display_data"
    }
   ],
   "source": [
    "housing(df)"
   ]
  },
  {
   "cell_type": "code",
   "execution_count": 1168,
   "metadata": {
    "collapsed": false
   },
   "outputs": [
    {
     "name": "stdout",
     "output_type": "stream",
     "text": [
      "13\n",
      "1\n",
      "2\n",
      "3\n"
     ]
    }
   ],
   "source": [
    "names = df[df.columns[0]]\n",
    "#print(len(names))\n",
    "print(math.ceil(len(names)/4))\n",
    "for i in range(int(round(len(names)/4))-1,int(round(len(names)/4))*3,int(round(len(names)/4))):\n",
    "    print(numbers[i])"
   ]
  },
  {
   "cell_type": "code",
   "execution_count": 1169,
   "metadata": {
    "collapsed": false
   },
   "outputs": [
    {
     "data": {
      "text/plain": [
       "'MichealPhalen'"
      ]
     },
     "execution_count": 1169,
     "metadata": {},
     "output_type": "execute_result"
    }
   ],
   "source": [
    "m = re.sub(\"(.?)(\\w+?\\s+?)(\\w+)$\", r\"\\1\\3\",\"MichealPhalen\")\n",
    "m"
   ]
  },
  {
   "cell_type": "code",
   "execution_count": 1170,
   "metadata": {
    "collapsed": true
   },
   "outputs": [],
   "source": [
    "def house(df):\n",
    "    m=(re.sub(\"(.?)(\\w+?\\s+?)(\\w+)$\", r\"\\1\\3\", df)).lower()\n",
    "    hasher = hashlib.sha256()\n",
    "    hasher.update((m).encode('utf-8'))\n",
    "    random.seed(hasher.hexdigest(),version=2)\n",
    "    for j in range(0,4):\n",
    "        hasher.update(repr(random.random()).encode('utf-8'))\n",
    "        \n",
    "    print((['Slytherin', 'Gryffindor', 'Hufflepuff', 'Ravenclaw'])[int(hasher.hexdigest(), 16) % 4])"
   ]
  },
  {
   "cell_type": "code",
   "execution_count": 1171,
   "metadata": {
    "collapsed": false
   },
   "outputs": [
    {
     "name": "stdout",
     "output_type": "stream",
     "text": [
      "Ravenclaw\n",
      "Gryffindor\n",
      "Slytherin\n",
      "Hufflepuff\n"
     ]
    }
   ],
   "source": [
    "house(\"Dan Tran\")\n",
    "house(\"Jackie First\")\n",
    "house(\"Ross Libman\")\n",
    "house(\"Reilly Jensen\")"
   ]
  }
 ],
 "metadata": {
  "kernelspec": {
   "display_name": "Python 3",
   "language": "python",
   "name": "python3"
  },
  "language_info": {
   "codemirror_mode": {
    "name": "ipython",
    "version": 3
   },
   "file_extension": ".py",
   "mimetype": "text/x-python",
   "name": "python",
   "nbconvert_exporter": "python",
   "pygments_lexer": "ipython3",
   "version": "3.6.0"
  }
 },
 "nbformat": 4,
 "nbformat_minor": 2
}
