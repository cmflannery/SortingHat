{
 "cells": [
  {
   "cell_type": "code",
   "execution_count": 136,
   "metadata": {
    "collapsed": true
   },
   "outputs": [],
   "source": [
    "import re\n",
    "import hashlib\n",
    "import pandas as pd\n",
    "import os\n",
    "import random\n",
    "import matplotlib.pyplot as plt\n",
    "import math as math"
   ]
  },
  {
   "cell_type": "code",
   "execution_count": 137,
   "metadata": {
    "collapsed": false
   },
   "outputs": [
    {
     "name": "stdout",
     "output_type": "stream",
     "text": [
      "C:\\Users\\MDPha\\Documents\\RPL\\SortingHat C:\\Users\\MDPha\\Documents\\RPL\\SortingHat\\assets/training/CSV_Database_of_First_Names.csv\n"
     ]
    }
   ],
   "source": [
    "cwd = os.getcwd()\n",
    "fileName = 'assets/training/CSV_Database_of_First_Names.csv'\n",
    "filePath = os.path.join(cwd, fileName)\n",
    "print(cwd, filePath)\n",
    "df = pd.read_csv(filePath,header=0)"
   ]
  },
  {
   "cell_type": "code",
   "execution_count": 138,
   "metadata": {
    "collapsed": false
   },
   "outputs": [],
   "source": [
    "def housing(df):\n",
    "    numbers = []\n",
    "    for i in range(0,len(df)):\n",
    "        m=(re.sub(\"(.?)(\\w+?\\s+?)(\\w+)$\", r\"\\1\\3\", df[df.columns[0]][i])).lower()\n",
    "        m=re.sub(\"[^a-zA-Z]\",\"\",m)\n",
    "        hasher = hashlib.sha256()\n",
    "        hasher.update((m).encode('utf-8'))\n",
    "        random.seed(hasher.hexdigest(),version=2)\n",
    "        for j in range(0,20):\n",
    "            hasher.update(repr(random.random()).encode('utf-8'))\n",
    "        numbers.append(int(hasher.hexdigest(), 16) % 4)#random.random())\n",
    "    plt.hist(numbers)\n",
    "    plt.grid()\n",
    "    plt.show()\n",
    "    numbers\n",
    "    numbers.sort()\n",
    "    numbers"
   ]
  },
  {
   "cell_type": "code",
   "execution_count": 139,
   "metadata": {
    "collapsed": false
   },
   "outputs": [
    {
     "data": {
      "image/png": "[encoded data removed]",
      "text/plain": [
       "<matplotlib.figure.Figure at 0x21ad6f209b0>"
      ]
     },
     "metadata": {},
     "output_type": "display_data"
    }
   ],
   "source": [
    "housing(df)"
   ]
  },
  {
   "cell_type": "markdown",
   "metadata": {},
   "source": [
    "## Testing same method with names of people in RPL"
   ]
  },
  {
   "cell_type": "code",
   "execution_count": 140,
   "metadata": {
    "collapsed": false,
    "scrolled": true
   },
   "outputs": [
    {
     "name": "stdout",
     "output_type": "stream",
     "text": [
      "C:\\Users\\MDPha\\Documents\\RPL\\SortingHat C:\\Users\\MDPha\\Documents\\RPL\\SortingHat/assets/training/sorting2016_2017.csv\n"
     ]
    }
   ],
   "source": [
    "cwd = os.getcwd()\n",
    "fileName = cwd + '/assets/training/sorting2016_2017.csv'\n",
    "filePath = os.path.join(cwd, fileName)\n",
    "print(cwd, filePath)\n",
    "df = pd.read_csv(filePath,header=0)"
   ]
  },
  {
   "cell_type": "code",
   "execution_count": 141,
   "metadata": {
    "collapsed": false
   },
   "outputs": [
    {
     "data": {
      "text/plain": [
       "51"
      ]
     },
     "execution_count": 141,
     "metadata": {},
     "output_type": "execute_result"
    }
   ],
   "source": [
    "names = df[df.columns[0]]\n",
    "len(names)"
   ]
  },
  {
   "cell_type": "code",
   "execution_count": 142,
   "metadata": {
    "collapsed": false
   },
   "outputs": [
    {
     "data": {
      "image/png": "[encoded data removed]",
      "text/plain": [
       "<matplotlib.figure.Figure at 0x21ad6ec0f28>"
      ]
     },
     "metadata": {},
     "output_type": "display_data"
    }
   ],
   "source": [
    "housing(df)"
   ]
  },
  {
   "cell_type": "code",
   "execution_count": 143,
   "metadata": {
    "collapsed": true
   },
   "outputs": [],
   "source": [
    "def house(df):\n",
    "    m=(re.sub(\"([a-zA-Z])([a-zA-Z]+?[^a-zA-Z]+?)([a-zA-Z]+)[^a-zA-Z]+?$\", r\"\\1\\3\", df)).lower()\n",
    "    m=re.sub(\"[^a-zA-Z]\",\"\",m)\n",
    "    print(m)\n",
    "    hasher = hashlib.sha256()\n",
    "    hasher.update((m).encode('utf-8'))\n",
    "    random.seed(hasher.hexdigest(),version=2)\n",
    "    for j in range(0,4):\n",
    "        hasher.update(repr(random.random()).encode('utf-8'))\n",
    "        \n",
    "    print((['Slytherin', 'Gryffindor', 'Hufflepuff', 'Ravenclaw'])[int(hasher.hexdigest(), 16) % 4])"
   ]
  },
  {
   "cell_type": "code",
   "execution_count": 144,
   "metadata": {
    "collapsed": false
   },
   "outputs": [
    {
     "name": "stdout",
     "output_type": "stream",
     "text": [
      "dtran\n",
      "Ravenclaw\n",
      "jfirst\n",
      "Gryffindor\n",
      "rlibman\n",
      "Slytherin\n",
      "reillyjensen\n",
      "Gryffindor\n"
     ]
    }
   ],
   "source": [
    "house(\"12314124 Dan  Tran \")\n",
    "house(\"1231241243 Jackie123512312!!!  First 123123141\")\n",
    "house(\"1231231231231#$%^&*() Ross #$%^&*() Libman          $%^&*()\")\n",
    "house(\"Reilly    893475@#$%^&*()   Jensen\")"
   ]
  },
  {
   "cell_type": "code",
   "execution_count": null,
   "metadata": {
    "collapsed": true
   },
   "outputs": [],
   "source": []
  }
 ],
 "metadata": {
  "kernelspec": {
   "display_name": "Python 3",
   "language": "python",
   "name": "python3"
  },
  "language_info": {
   "codemirror_mode": {
    "name": "ipython",
    "version": 3
   },
   "file_extension": ".py",
   "mimetype": "text/x-python",
   "name": "python",
   "nbconvert_exporter": "python",
   "pygments_lexer": "ipython3",
   "version": "3.6.0"
  }
 },
 "nbformat": 4,
 "nbformat_minor": 2
}
