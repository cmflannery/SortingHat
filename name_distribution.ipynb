{
 "cells": [
  {
   "cell_type": "code",
   "execution_count": 1,
   "metadata": {
    "collapsed": true
   },
   "outputs": [],
   "source": [
    "import pandas as pd\n",
    "import os\n",
    "import random\n",
    "import matplotlib.pyplot as plt"
   ]
  },
  {
   "cell_type": "code",
   "execution_count": 2,
   "metadata": {
    "collapsed": false
   },
   "outputs": [
    {
     "name": "stdout",
     "output_type": "stream",
     "text": [
      "D:\\github\\SortingHat\n"
     ]
    }
   ],
   "source": [
    "cwd = os.getcwd()\n",
    "fileName = 'assets/training/CSV_Database_of_First_Names.csv'\n",
    "filePath = os.path.join(cwd, fileName)\n",
    "print(cwd)\n",
    "df = pd.read_csv(filePath,header=0)"
   ]
  },
  {
   "cell_type": "code",
   "execution_count": 4,
   "metadata": {
    "collapsed": false
   },
   "outputs": [],
   "source": [
    "numbers = []\n",
    "for i in range(0,len(df)):\n",
    "    random.seed(df['firstname'][i],version=2)\n",
    "    numbers.append(random.random())"
   ]
  },
  {
   "cell_type": "code",
   "execution_count": 5,
   "metadata": {
    "collapsed": false
   },
   "outputs": [
    {
     "data": {
      "image/png": "[encoded data removed]",
      "text/plain": [
       "<matplotlib.figure.Figure at 0x98b5940>"
      ]
     },
     "metadata": {},
     "output_type": "display_data"
    }
   ],
   "source": [
    "plt.hist(numbers)\n",
    "plt.show()"
   ]
  },
  {
   "cell_type": "code",
   "execution_count": 18,
   "metadata": {
    "collapsed": false
   },
   "outputs": [
    {
     "ename": "AttributeError",
     "evalue": "module 'random' has no attribute 'range'",
     "output_type": "error",
     "traceback": [
      "\u001b[0;31m---------------------------------------------------------------------------\u001b[0m",
      "\u001b[0;31mAttributeError\u001b[0m                            Traceback (most recent call last)",
      "\u001b[0;32m<ipython-input-18-689ca4734ae5>\u001b[0m in \u001b[0;36m<module>\u001b[0;34m()\u001b[0m\n\u001b[0;32m----> 1\u001b[0;31m \u001b[0mrandom\u001b[0m\u001b[1;33m.\u001b[0m\u001b[0mrange\u001b[0m\u001b[1;33m\u001b[0m\u001b[0m\n\u001b[0m",
      "\u001b[0;31mAttributeError\u001b[0m: module 'random' has no attribute 'range'"
     ]
    }
   ],
   "source": [
    "random.range"
   ]
  },
  {
   "cell_type": "markdown",
   "metadata": {},
   "source": [
    "## Testing same method with names of people in RPL"
   ]
  },
  {
   "cell_type": "code",
   "execution_count": 8,
   "metadata": {
    "collapsed": false
   },
   "outputs": [],
   "source": [
    "cwd = os.getcwd()\n",
    "fileName = cwd + '/jupyterDev/assets/training/2017members.csv'\n",
    "filePath = os.path.join(cwd, fileName)\n",
    "\n",
    "df = pd.read_csv(filePath,header=0)"
   ]
  },
  {
   "cell_type": "code",
   "execution_count": 15,
   "metadata": {
    "collapsed": false
   },
   "outputs": [
    {
     "data": {
      "text/plain": [
       "51"
      ]
     },
     "execution_count": 15,
     "metadata": {},
     "output_type": "execute_result"
    }
   ],
   "source": [
    "names = df[df.columns[0]]\n",
    "len(names)"
   ]
  },
  {
   "cell_type": "code",
   "execution_count": 37,
   "metadata": {
    "collapsed": false
   },
   "outputs": [
    {
     "data": {
      "image/png": "[encoded data removed]",
      "text/plain": [
       "<matplotlib.figure.Figure at 0x9f6d438>"
      ]
     },
     "metadata": {},
     "output_type": "display_data"
    },
    {
     "data": {
      "text/plain": [
       "[0.014576925903111548,\n",
       " 0.04194324543644945,\n",
       " 0.05533270492010367,\n",
       " 0.07376181753151578,\n",
       " 0.09479716964336649,\n",
       " 0.10321560133890118,\n",
       " 0.10698999812344301,\n",
       " 0.12289567968262982,\n",
       " 0.1755512352234576,\n",
       " 0.18433818454322448,\n",
       " 0.1949546339607401,\n",
       " 0.1996091244812599,\n",
       " 0.207993559285643,\n",
       " 0.23940615807174492,\n",
       " 0.24814891394788485,\n",
       " 0.30034615051985014,\n",
       " 0.3175780967860198,\n",
       " 0.32503299746708214,\n",
       " 0.33485201954325516,\n",
       " 0.3418394326558486,\n",
       " 0.3493819490672999,\n",
       " 0.36953394818106955,\n",
       " 0.3718945494822904,\n",
       " 0.382459181639493,\n",
       " 0.4120834588745682,\n",
       " 0.44413311027775026,\n",
       " 0.4491343262155608,\n",
       " 0.4861636437320913,\n",
       " 0.5091262965378942,\n",
       " 0.5266325811934762,\n",
       " 0.5501590670794266,\n",
       " 0.562866942581047,\n",
       " 0.5916942702287863,\n",
       " 0.6130077317353914,\n",
       " 0.6244088628915091,\n",
       " 0.6648767367148534,\n",
       " 0.6829815434626432,\n",
       " 0.6863494094106404,\n",
       " 0.6885798336936932,\n",
       " 0.7143824580079027,\n",
       " 0.7250883942669488,\n",
       " 0.7860533501984992,\n",
       " 0.8057760929727266,\n",
       " 0.8222063172656945,\n",
       " 0.8408226416077832,\n",
       " 0.8570624944756507,\n",
       " 0.8876730389268941,\n",
       " 0.9178219280354644,\n",
       " 0.9345284678260555,\n",
       " 0.9783589833862784,\n",
       " 0.9785373849570502]"
      ]
     },
     "execution_count": 37,
     "metadata": {},
     "output_type": "execute_result"
    }
   ],
   "source": [
    "numbers = []\n",
    "for i in range(0,len(df)):\n",
    "    random.seed(df[df.columns[0]][i],version=2)\n",
    "    numbers.append(random.random())\n",
    "plt.hist(numbers)\n",
    "plt.show()\n",
    "numbers\n",
    "numbers.sort()\n",
    "numbers"
   ]
  },
  {
   "cell_type": "code",
   "execution_count": 28,
   "metadata": {
    "collapsed": false
   },
   "outputs": [
    {
     "name": "stdout",
     "output_type": "stream",
     "text": [
      "51\n",
      "12\n"
     ]
    }
   ],
   "source": [
    "names = df[df.columns[0]]\n",
    "print(len(names))\n",
    "print(len(names)//4)"
   ]
  },
  {
   "cell_type": "code",
   "execution_count": null,
   "metadata": {
    "collapsed": true
   },
   "outputs": [],
   "source": []
  }
 ],
 "metadata": {
  "kernelspec": {
   "display_name": "Python 3",
   "language": "python",
   "name": "python3"
  },
  "language_info": {
   "codemirror_mode": {
    "name": "ipython",
    "version": 3
   },
   "file_extension": ".py",
   "mimetype": "text/x-python",
   "name": "python",
   "nbconvert_exporter": "python",
   "pygments_lexer": "ipython3",
   "version": "3.6.0"
  }
 },
 "nbformat": 4,
 "nbformat_minor": 2
}
